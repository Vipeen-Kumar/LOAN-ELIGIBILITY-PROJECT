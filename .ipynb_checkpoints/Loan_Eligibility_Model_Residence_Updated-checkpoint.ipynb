{
 "cells": [
  {
   "cell_type": "markdown",
   "id": "a78cdeb6",
   "metadata": {},
   "source": [
    "# **Loan Eligibility Prediction Model**\n",
    "This project predicts loan eligibility, interest rates, and tenure based on user-provided data."
   ]
  },
  {
   "cell_type": "code",
   "execution_count": null,
   "id": "22c4443f",
   "metadata": {},
   "outputs": [],
   "source": [
    "\n",
    "# Importing Required Libraries\n",
    "import pandas as pd\n",
    "import numpy as np\n",
    "from sklearn.model_selection import train_test_split\n",
    "from sklearn.preprocessing import StandardScaler, LabelEncoder\n",
    "from sklearn.ensemble import RandomForestClassifier, RandomForestRegressor\n",
    "from sklearn.metrics import accuracy_score, mean_squared_error\n",
    "import joblib\n"
   ]
  },
  {
   "cell_type": "markdown",
   "id": "9b43ce82",
   "metadata": {},
   "source": [
    "### **Step 1: Load Dataset and Preprocess Data**"
   ]
  },
  {
   "cell_type": "code",
   "execution_count": null,
   "id": "9a553185",
   "metadata": {},
   "outputs": [],
   "source": [
    "\n",
    "# Load dataset\n",
    "data = pd.read_csv(\"Updated_Loan_Eligibility_Dataset_2000.csv\")\n",
    "\n",
    "# Encode Categorical Data\n",
    "le = LabelEncoder()\n",
    "data['Loan_Eligibility'] = le.fit_transform(data['Loan_Eligibility'])\n",
    "\n",
    "# Features and targets\n",
    "X = data.drop(['Loan_Eligibility', 'Interest_Rate', 'Loan_Tenure',\n",
    "               'EMI_Per_Month', 'Total_Interest', 'Total_Amount_Payable'], axis=1)\n",
    "\n",
    "y_eligibility = data['Loan_Eligibility']\n",
    "y_interest = data['Interest_Rate']\n",
    "y_tenure = data['Loan_Tenure']\n",
    "\n",
    "# Encode Categorical Data in Features\n",
    "X_encoded = pd.get_dummies(X, drop_first=True)\n"
   ]
  },
  {
   "cell_type": "markdown",
   "id": "8f81f038",
   "metadata": {},
   "source": [
    "### **Step 2: Train-Test Split and Scaling**"
   ]
  },
  {
   "cell_type": "code",
   "execution_count": null,
   "id": "fa7c77a5",
   "metadata": {},
   "outputs": [],
   "source": [
    "\n",
    "# Split data\n",
    "X_train, X_test, y_eligibility_train, y_eligibility_test = train_test_split(X_encoded, y_eligibility, test_size=0.3, random_state=42)\n",
    "_, _, y_interest_train, y_interest_test = train_test_split(X_encoded, y_interest, test_size=0.3, random_state=42)\n",
    "_, _, y_tenure_train, y_tenure_test = train_test_split(X_encoded, y_tenure, test_size=0.3, random_state=42)\n",
    "\n",
    "# Standardization\n",
    "scaler = StandardScaler()\n",
    "X_train_scaled = scaler.fit_transform(X_train)\n",
    "X_test_scaled = scaler.transform(X_test)\n"
   ]
  },
  {
   "cell_type": "markdown",
   "id": "7831bb0f",
   "metadata": {},
   "source": [
    "### **Step 3: Model Training**"
   ]
  },
  {
   "cell_type": "code",
   "execution_count": null,
   "id": "478223dd",
   "metadata": {},
   "outputs": [],
   "source": [
    "\n",
    "clf = RandomForestClassifier(random_state=42)\n",
    "reg_interest = RandomForestRegressor(random_state=42)\n",
    "reg_tenure = RandomForestRegressor(random_state=42)\n",
    "\n",
    "clf.fit(X_train_scaled, y_eligibility_train)\n",
    "reg_interest.fit(X_train_scaled, y_interest_train)\n",
    "reg_tenure.fit(X_train_scaled, y_tenure_train)\n"
   ]
  },
  {
   "cell_type": "markdown",
   "id": "43436f12",
   "metadata": {},
   "source": [
    "### **Step 4: Model Evaluation**"
   ]
  },
  {
   "cell_type": "code",
   "execution_count": null,
   "id": "8ab3b912",
   "metadata": {},
   "outputs": [],
   "source": [
    "\n",
    "eligibility_pred = clf.predict(X_test_scaled)\n",
    "interest_pred = reg_interest.predict(X_test_scaled)\n",
    "tenure_pred = reg_tenure.predict(X_test_scaled)\n",
    "\n",
    "eligibility_acc = accuracy_score(y_eligibility_test, eligibility_pred)\n",
    "interest_rmse = mean_squared_error(y_interest_test, interest_pred, squared=False)\n",
    "tenure_rmse = mean_squared_error(y_tenure_test, tenure_pred, squared=False)\n",
    "\n",
    "print(f\"Loan Eligibility Prediction Accuracy: {eligibility_acc:.2f}\")\n",
    "print(f\"Interest Rate Prediction RMSE: {interest_rmse:.2f}\")\n",
    "print(f\"Loan Tenure Prediction RMSE: {tenure_rmse:.2f}\")\n"
   ]
  },
  {
   "cell_type": "markdown",
   "id": "71170dbe",
   "metadata": {},
   "source": [
    "### **Step 5: Model Saving for Deployment**"
   ]
  },
  {
   "cell_type": "code",
   "execution_count": null,
   "id": "809f5074",
   "metadata": {},
   "outputs": [],
   "source": [
    "\n",
    "joblib.dump(clf, \"loan_eligibility_model.pkl\")\n",
    "joblib.dump(reg_interest, \"interest_rate_model.pkl\")\n",
    "joblib.dump(reg_tenure, \"loan_tenure_model.pkl\")\n",
    "joblib.dump(scaler, \"scaler.pkl\")\n"
   ]
  },
  {
   "cell_type": "markdown",
   "id": "cbe81e57",
   "metadata": {},
   "source": [
    "### **Step 6: Example Predictions**"
   ]
  },
  {
   "cell_type": "code",
   "execution_count": null,
   "id": "8622ad5b",
   "metadata": {},
   "outputs": [],
   "source": [
    "\n",
    "example_eligible = pd.DataFrame({\n",
    "    'Age': [30], 'Income': [500000], 'Expenses': [100000], \n",
    "    'Credit_Score': [750], 'CIBIL_Score': [780], 'Employment_Stability': [5],\n",
    "    'Loan_Amount': [500000], 'City_Mumbai': [1], 'City_Delhi': [0]\n",
    "})\n",
    "\n",
    "example_not_eligible = pd.DataFrame({\n",
    "    'Age': [19], 'Income': [150000], 'Expenses': [90000], \n",
    "    'Credit_Score': [600], 'CIBIL_Score': [650], 'Employment_Stability': [0],\n",
    "    'Loan_Amount': [800000], 'City_Mumbai': [0], 'City_Delhi': [1]\n",
    "})\n",
    "\n",
    "example_eligible_scaled = scaler.transform(example_eligible)\n",
    "example_not_eligible_scaled = scaler.transform(example_not_eligible)\n",
    "\n",
    "print(\"Eligible Candidate Prediction:\")\n",
    "print(f\"Loan Eligibility: {'Eligible' if clf.predict(example_eligible_scaled)[0] == 1 else 'Not Eligible'}\")\n",
    "print(f\"Predicted Interest Rate: {reg_interest.predict(example_eligible_scaled)[0]:.2f}%\")\n",
    "print(f\"Predicted Loan Tenure: {reg_tenure.predict(example_eligible_scaled)[0]:.0f} months\")\n",
    "\n",
    "print(\"\\nNon-Eligible Candidate Prediction:\")\n",
    "print(f\"Loan Eligibility: {'Eligible' if clf.predict(example_not_eligible_scaled)[0] == 1 else 'Not Eligible'}\")\n",
    "print(f\"Predicted Interest Rate: {reg_interest.predict(example_not_eligible_scaled)[0]:.2f}%\")\n",
    "print(f\"Predicted Loan Tenure: {reg_tenure.predict(example_not_eligible_scaled)[0]:.0f} months\")\n"
   ]
  }
 ],
 "metadata": {},
 "nbformat": 4,
 "nbformat_minor": 5
}
