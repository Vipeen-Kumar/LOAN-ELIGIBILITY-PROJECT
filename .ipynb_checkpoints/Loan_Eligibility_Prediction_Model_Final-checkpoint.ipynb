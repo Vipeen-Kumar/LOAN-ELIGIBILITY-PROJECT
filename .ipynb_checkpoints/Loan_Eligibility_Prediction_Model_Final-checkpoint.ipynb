{
 "cells": [
  {
   "cell_type": "markdown",
   "id": "258b860b",
   "metadata": {},
   "source": [
    "# **Loan Eligibility Prediction Model**\n",
    "This notebook predicts loan eligibility, interest rate, EMI, and tenure based on user input."
   ]
  },
  {
   "cell_type": "code",
   "execution_count": 1,
   "id": "bd835536",
   "metadata": {},
   "outputs": [],
   "source": [
    "\n",
    "# Importing Libraries\n",
    "import pandas as pd\n",
    "from sklearn.model_selection import train_test_split\n",
    "from sklearn.ensemble import RandomForestClassifier, RandomForestRegressor\n",
    "from sklearn.preprocessing import LabelEncoder, StandardScaler\n",
    "from sklearn.metrics import accuracy_score, mean_squared_error\n",
    "    "
   ]
  },
  {
   "cell_type": "markdown",
   "id": "ab95c728",
   "metadata": {},
   "source": [
    "## **Step 1: Load and Preprocess Data**"
   ]
  },
  {
   "cell_type": "code",
   "execution_count": 2,
   "id": "04ffda71",
   "metadata": {},
   "outputs": [],
   "source": [
    "\n",
    "# Load dataset\n",
    "dataset_path = \"loan_eligibility_dataset_criteria_updated.csv\"\n",
    "data = pd.read_csv(dataset_path)\n",
    "\n",
    "# Encode categorical data\n",
    "encoder = LabelEncoder()\n",
    "encoded_df = data.copy()\n",
    "\n",
    "categorical_cols = [\"City\", \"Marital_Status\", \"Employment_Type\", \"Employer\",\n",
    "                    \"Employment_Stability\", \"Loan_Type\", \"Purpose\", \"Collateral\",\n",
    "                    \"Education\", \"Insurance\", \"Tax_History\", \"Residence_Type\",\n",
    "                    \"Utility_Bill_History\"]\n",
    "\n",
    "for col in categorical_cols:\n",
    "    encoded_df[col] = encoder.fit_transform(encoded_df[col])\n",
    "\n",
    "# Splitting the data\n",
    "X = encoded_df.drop([\"Loan_Eligibility\", \"Interest_Rate\", \"EMI_Per_Month\", \"Loan_Tenure\"], axis=1)\n",
    "y_eligibility = encoded_df[\"Loan_Eligibility\"].apply(lambda x: 1 if x == \"Eligible\" else 0)\n",
    "y_interest = encoded_df[\"Interest_Rate\"]\n",
    "y_emi = encoded_df[\"EMI_Per_Month\"]\n",
    "y_tenure = encoded_df[\"Loan_Tenure\"]\n",
    "\n",
    "# Train-test split\n",
    "X_train, X_test, y_train_eligibility, y_test_eligibility = train_test_split(X, y_eligibility, test_size=0.3, random_state=42)\n",
    "_, _, y_train_interest, y_test_interest = train_test_split(X, y_interest, test_size=0.3, random_state=42)\n",
    "_, _, y_train_emi, y_test_emi = train_test_split(X, y_emi, test_size=0.3, random_state=42)\n",
    "_, _, y_train_tenure, y_test_tenure = train_test_split(X, y_tenure, test_size=0.3, random_state=42)\n",
    "\n",
    "# Scaling the data\n",
    "scaler = StandardScaler()\n",
    "X_train_scaled = scaler.fit_transform(X_train)\n",
    "X_test_scaled = scaler.transform(X_test)\n",
    "    "
   ]
  },
  {
   "cell_type": "markdown",
   "id": "5af4bb06",
   "metadata": {},
   "source": [
    "## **Step 2: Model Training**"
   ]
  },
  {
   "cell_type": "code",
   "execution_count": 3,
   "id": "fecb6a01",
   "metadata": {},
   "outputs": [
    {
     "name": "stdout",
     "output_type": "stream",
     "text": [
      "Eligibility Accuracy: 91.67%\n",
      "Interest Rate MSE: 0.0030\n",
      "EMI Prediction MSE: 408116049.55\n",
      "Loan Tenure MSE: 79.90\n"
     ]
    }
   ],
   "source": [
    "\n",
    "# Model training\n",
    "clf = RandomForestClassifier(random_state=42)\n",
    "clf.fit(X_train_scaled, y_train_eligibility)\n",
    "\n",
    "reg_interest = RandomForestRegressor(random_state=42)\n",
    "reg_interest.fit(X_train_scaled, y_train_interest)\n",
    "\n",
    "reg_emi = RandomForestRegressor(random_state=42)\n",
    "reg_emi.fit(X_train_scaled, y_train_emi)\n",
    "\n",
    "reg_tenure = RandomForestRegressor(random_state=42)\n",
    "reg_tenure.fit(X_train_scaled, y_train_tenure)\n",
    "\n",
    "# Predictions\n",
    "y_pred_eligibility = clf.predict(X_test_scaled)\n",
    "y_pred_interest = reg_interest.predict(X_test_scaled)\n",
    "y_pred_emi = reg_emi.predict(X_test_scaled)\n",
    "y_pred_tenure = reg_tenure.predict(X_test_scaled)\n",
    "\n",
    "# Model Evaluation\n",
    "accuracy = accuracy_score(y_test_eligibility, y_pred_eligibility)\n",
    "mse_interest = mean_squared_error(y_test_interest, y_pred_interest)\n",
    "mse_emi = mean_squared_error(y_test_emi, y_pred_emi)\n",
    "mse_tenure = mean_squared_error(y_test_tenure, y_pred_tenure)\n",
    "\n",
    "print(f\"Eligibility Accuracy: {accuracy * 100:.2f}%\")\n",
    "print(f\"Interest Rate MSE: {mse_interest:.4f}\")\n",
    "print(f\"EMI Prediction MSE: {mse_emi:.2f}\")\n",
    "print(f\"Loan Tenure MSE: {mse_tenure:.2f}\")\n",
    "    "
   ]
  },
  {
   "cell_type": "markdown",
   "id": "a6e9774a",
   "metadata": {},
   "source": [
    "## **Step 3: Prediction Function with Examples and Suggestions**"
   ]
  },
  {
   "cell_type": "code",
   "execution_count": 5,
   "id": "085d7845",
   "metadata": {},
   "outputs": [],
   "source": [
    "\n",
    "# Prediction function for user input with suggestions\n",
    "def predict_loan_eligibility(user_input):\n",
    "    user_input_cleaned = user_input.copy()\n",
    "    user_input_cleaned.pop(\"Loan_Tenure\", None)\n",
    "\n",
    "    user_df = pd.DataFrame([user_input_cleaned])\n",
    "\n",
    "    for col in categorical_cols:\n",
    "        if col in user_df:\n",
    "            user_df[col] = encoder.fit_transform(user_df[col])\n",
    "\n",
    "    user_scaled = scaler.transform(user_df)\n",
    "\n",
    "    eligibility = \"Eligible\" if clf.predict(user_scaled)[0] == 1 else \"Not Eligible\"\n",
    "    interest_rate = round(reg_interest.predict(user_scaled)[0], 2)\n",
    "    emi = round(reg_emi.predict(user_scaled)[0], 2)\n",
    "    tenure = round(reg_tenure.predict(user_scaled)[0])\n",
    "\n",
    "    # Suggestions if not eligible\n",
    "    suggestions = []\n",
    "    if eligibility == \"Not Eligible\":\n",
    "        if user_input['Credit_Score'] < 700:\n",
    "            suggestions.append(\"✔️ Improve your CIBIL score above 700 by repaying debts on time.\")\n",
    "        if user_input['Income'] < user_input['Expenses'] * 2:\n",
    "            suggestions.append(\"✔️ Reduce your expenses or increase your income to improve your financial stability.\")\n",
    "        if user_input['Savings'] < 50000:\n",
    "            suggestions.append(\"✔️ Increase your savings to ensure better financial security.\")\n",
    "        if user_input['Existing_Loans'] > 2:\n",
    "            suggestions.append(\"✔️ Try to close existing loans before applying for a new one.\")\n",
    "\n",
    "    return {\n",
    "        \"Loan Eligibility\": eligibility,\n",
    "        \"Estimated Interest Rate (%)\": interest_rate,\n",
    "        \"Estimated EMI (₹/month)\": emi,\n",
    "        \"Suggested Loan Tenure (years)\": tenure,\n",
    "        \"Suggestions for Improvement\": suggestions if eligibility == \"Not Eligible\" else \"N/A\"\n",
    "    }\n",
    "    "
   ]
  },
  {
   "cell_type": "markdown",
   "id": "1511a9e5",
   "metadata": {},
   "source": [
    "## **Step 4: Example Predictions**"
   ]
  },
  {
   "cell_type": "code",
   "execution_count": 8,
   "id": "634337bd",
   "metadata": {},
   "outputs": [
    {
     "name": "stdout",
     "output_type": "stream",
     "text": [
      "✅ Example 1 - Eligible Candidate Result:\n",
      "{'Loan Eligibility': 'Eligible', 'Estimated Interest Rate (%)': 7.5, 'Estimated EMI (₹/month)': 18733.39, 'Suggested Loan Tenure (years)': 14, 'Suggestions for Improvement': 'N/A'}\n",
      "❌ Example 2 - Non-Eligible Candidate Result:\n",
      "{'Loan Eligibility': 'Not Eligible', 'Estimated Interest Rate (%)': 8.5, 'Estimated EMI (₹/month)': 11604.56, 'Suggested Loan Tenure (years)': 16, 'Suggestions for Improvement': ['✔️ Improve your CIBIL score above 700 by repaying debts on time.', '✔️ Reduce your expenses or increase your income to improve your financial stability.', '✔️ Increase your savings to ensure better financial security.', '✔️ Try to close existing loans before applying for a new one.']}\n"
     ]
    }
   ],
   "source": [
    "\n",
    "# Example 1 - Eligible Candidate\n",
    "example_eligible = {\n",
    "    \"Age\": 35, \"City\": \"Pune\", \"Marital_Status\": \"Married\", \"Dependents\": 1,\n",
    "    \"Income\": 80000, \"Expenses\": 20000, \"Other_Income\": 15000,\n",
    "    \"Existing_Loans\": 0, \"Credit_Score\": 780, \"Savings\": 200000,\n",
    "    \"Assets\": 700000, \"Employment_Type\": \"Salaried\", \"Experience\": 10,\n",
    "    \"Employer\": \"Reputed Company\", \"Employment_Stability\": \"Stable\",\n",
    "    \"Loan_Type\": \"Home Loan\", \"Loan_Amount\": 600000, \"Purpose\": \"House Renovation\",\n",
    "    \"Collateral\": \"Property\", \"Education\": \"Postgraduate\", \"Insurance\": \"Yes\",\n",
    "    \"Tax_History\": \"Excellent\", \"Residence_Type\": \"Owned\", \"Utility_Bill_History\": \"On-Time\",\n",
    "    \"CIBIL_Score\": 800\n",
    "}\n",
    "\n",
    "print(\"✅ Example 1 - Eligible Candidate Result:\")\n",
    "print(predict_loan_eligibility(example_eligible))\n",
    "\n",
    "# Example 2 - Non-Eligible Candidate\n",
    "example_not_eligible = {\n",
    "    \"Age\": 27, \"City\": \"Delhi\", \"Marital_Status\": \"Single\", \"Dependents\": 0,\n",
    "    \"Income\": 20000, \"Expenses\": 18000, \"Other_Income\": 2000,\n",
    "    \"Existing_Loans\": 3, \"Credit_Score\": 600, \"Savings\": 10000,\n",
    "    \"Assets\": 150000, \"Employment_Type\": \"Self-Employed\", \"Experience\": 2,\n",
    "    \"Employer\": \"Unknown\", \"Employment_Stability\": \"Unstable\",\n",
    "    \"Loan_Type\": \"Car Loan\", \"Loan_Amount\": 500000, \"Purpose\": \"Vehicle Purchase\",\n",
    "    \"Collateral\": \"None\", \"Education\": \"Undergraduate\", \"Insurance\": \"No\",\n",
    "    \"Tax_History\": \"Average\", \"Residence_Type\": \"Rented\", \"Utility_Bill_History\": \"Late Payments\",\n",
    "    \"CIBIL_Score\": 600\n",
    "}\n",
    "\n",
    "print(\"❌ Example 2 - Non-Eligible Candidate Result:\")\n",
    "print(predict_loan_eligibility(example_not_eligible))\n",
    "    "
   ]
  },
  {
   "cell_type": "code",
   "execution_count": null,
   "id": "950f7c4b",
   "metadata": {},
   "outputs": [],
   "source": []
  }
 ],
 "metadata": {
  "kernelspec": {
   "display_name": "Python 3 (ipykernel)",
   "language": "python",
   "name": "python3"
  },
  "language_info": {
   "codemirror_mode": {
    "name": "ipython",
    "version": 3
   },
   "file_extension": ".py",
   "mimetype": "text/x-python",
   "name": "python",
   "nbconvert_exporter": "python",
   "pygments_lexer": "ipython3",
   "version": "3.11.5"
  }
 },
 "nbformat": 4,
 "nbformat_minor": 5
}
